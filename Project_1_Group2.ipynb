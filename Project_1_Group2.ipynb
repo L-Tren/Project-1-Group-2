{
 "cells": [
  {
   "cell_type": "code",
   "execution_count": null,
   "id": "3d20f7a2-36a9-48ef-a797-ee8391e92d1b",
   "metadata": {},
   "outputs": [],
   "source": []
  }
 ],
 "metadata": {
  "kernelspec": {
   "display_name": "Python [conda env:myfirstpythonenv] *",
   "language": "python",
   "name": "conda-env-myfirstpythonenv-py"
  },
  "language_info": {
   "codemirror_mode": {
    "name": "ipython",
    "version": 3
   },
   "file_extension": ".py",
   "mimetype": "text/x-python",
   "name": "python",
   "nbconvert_exporter": "python",
   "pygments_lexer": "ipython3",
   "version": "3.7.13"
  }
 },
 "nbformat": 4,
 "nbformat_minor": 5
}
